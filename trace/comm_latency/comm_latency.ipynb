{
 "cells": [
  {
   "cell_type": "code",
   "execution_count": 1,
   "metadata": {},
   "outputs": [],
   "source": [
    "import numpy as np"
   ]
  },
  {
   "cell_type": "code",
   "execution_count": 2,
   "metadata": {},
   "outputs": [],
   "source": [
    "from tracetools_analysis.ros_model import ApplicationFactory"
   ]
  },
  {
   "cell_type": "code",
   "execution_count": 3,
   "metadata": {},
   "outputs": [],
   "source": [
    "trace_path = '~/.ros/tracing/v4l2_trace/ust'\n",
    "# architecture_path = './architecture.json.template'\n",
    "architecture_path = '../arch.json'"
   ]
  },
  {
   "cell_type": "code",
   "execution_count": 4,
   "metadata": {},
   "outputs": [],
   "source": [
    "app = ApplicationFactory.create_from_json(architecture_path)"
   ]
  },
  {
   "cell_type": "code",
   "execution_count": 5,
   "metadata": {},
   "outputs": [
    {
     "name": "stdout",
     "output_type": "stream",
     "text": [
      "converting trace directory: /home/zs/.ros/tracing/v4l2_trace/ust\n",
      "converted 835 events in 42 ms\n",
      "output written to: /home/zs/.ros/tracing/v4l2_trace/ust/converted\n",
      " [100%] [Ros2Handler]\n"
     ]
    }
   ],
   "source": [
    "app.import_trace(trace_path, start_transition_ms=1000, end_transition_ms=1000)"
   ]
  },
  {
   "cell_type": "code",
   "execution_count": 6,
   "metadata": {},
   "outputs": [
    {
     "data": {
      "text/plain": [
       "[<tracetools_analysis.ros_model.comm.Comm at 0x7f189789a5e0>]"
      ]
     },
     "execution_count": 6,
     "metadata": {},
     "output_type": "execute_result"
    }
   ],
   "source": [
    "list(app.comms)"
   ]
  },
  {
   "cell_type": "code",
   "execution_count": 7,
   "metadata": {},
   "outputs": [
    {
     "name": "stdout",
     "output_type": "stream",
     "text": [
      "/image_raw_0\n",
      "/image_raw_dds_0\n"
     ]
    }
   ],
   "source": [
    "print(app.comms[0].name)\n",
    "print(app.comms[0].child[0].name)"
   ]
  },
  {
   "cell_type": "code",
   "execution_count": 8,
   "metadata": {},
   "outputs": [],
   "source": [
    "# node and comm\n",
    "comm = app.comms[0]\n",
    "dds = comm.child[0]"
   ]
  },
  {
   "cell_type": "code",
   "execution_count": 9,
   "metadata": {},
   "outputs": [
    {
     "data": {
      "text/plain": [
       "'/image_raw_0'"
      ]
     },
     "execution_count": 9,
     "metadata": {},
     "output_type": "execute_result"
    }
   ],
   "source": [
    "comm.name"
   ]
  },
  {
   "cell_type": "code",
   "execution_count": 10,
   "metadata": {},
   "outputs": [
    {
     "data": {
      "text/plain": [
       "'/image_raw_dds_0'"
      ]
     },
     "execution_count": 10,
     "metadata": {},
     "output_type": "execute_result"
    }
   ],
   "source": [
    "dds.name"
   ]
  },
  {
   "cell_type": "code",
   "execution_count": 11,
   "metadata": {},
   "outputs": [],
   "source": [
    "import matplotlib.pyplot as plt"
   ]
  },
  {
   "cell_type": "code",
   "execution_count": 12,
   "metadata": {},
   "outputs": [],
   "source": [
    "def label(path):\n",
    "    return 'max: {} ms, {}'.format(path.max_ms, path.name)"
   ]
  },
  {
   "cell_type": "code",
   "execution_count": 13,
   "metadata": {},
   "outputs": [
    {
     "data": {
      "text/plain": [
       "{'unit': 'ms',\n",
       " 'min': 0.316928,\n",
       " 'max': 0.33152,\n",
       " 'median': 0.3232,\n",
       " 'mean': 0.32341759999999997,\n",
       " 'send': 20,\n",
       " 'lost': 0}"
      ]
     },
     "execution_count": 13,
     "metadata": {},
     "output_type": "execute_result"
    }
   ],
   "source": [
    "comm.get_stats()"
   ]
  },
  {
   "cell_type": "code",
   "execution_count": 14,
   "metadata": {},
   "outputs": [
    {
     "data": {
      "text/plain": [
       "{'unit': 'ms',\n",
       " 'min': 0.057344,\n",
       " 'max': 0.072448,\n",
       " 'median': 0.068352,\n",
       " 'mean': 0.0674816,\n",
       " 'send': 20,\n",
       " 'lost': 0}"
      ]
     },
     "execution_count": 14,
     "metadata": {},
     "output_type": "execute_result"
    }
   ],
   "source": [
    "dds.get_stats()"
   ]
  },
  {
   "cell_type": "code",
   "execution_count": 15,
   "metadata": {},
   "outputs": [
    {
     "data": {
      "text/plain": [
       "Text(0, 0.5, 'Probability')"
      ]
     },
     "execution_count": 15,
     "metadata": {},
     "output_type": "execute_result"
    },
    {
     "data": {
      "image/png": "[encoded data removed]",
      "text/plain": [
       "<Figure size 432x288 with 1 Axes>"
      ]
     },
     "metadata": {
      "needs_background": "light"
     },
     "output_type": "display_data"
    }
   ],
   "source": [
    "latency_ms, hist = comm.hist(binsize_ns=100000).get_xy()\n",
    "max_ms = comm.get_stats()['max']\n",
    "plt.step(latency_ms, hist, label='max: {:0.1f} ms'.format(max_ms), where='post')\n",
    "\n",
    "latency_ms, hist = dds.hist(binsize_ns=100000).get_xy()\n",
    "max_ms = dds.get_stats()['max']\n",
    "plt.step(latency_ms, hist, label='max: {:0.1f} ms'.format(max_ms), where='post')\n",
    "\n",
    "plt.legend()\n",
    "plt.title(comm.name)\n",
    "plt.xlabel('Latency [ms]')\n",
    "plt.ylabel('Probability')"
   ]
  },
  {
   "cell_type": "code",
   "execution_count": 16,
   "metadata": {},
   "outputs": [
    {
     "data": {
      "text/plain": [
       "Text(0, 0.5, 'Latency [ms]')"
      ]
     },
     "execution_count": 16,
     "metadata": {},
     "output_type": "execute_result"
    },
    {
     "data": {
      "image/png": "[encoded data removed]",
      "text/plain": [
       "<Figure size 432x288 with 1 Axes>"
      ]
     },
     "metadata": {
      "needs_background": "light"
     },
     "output_type": "display_data"
    }
   ],
   "source": [
    "system_time_ns, latency_ns = comm.timeseries.get_xy()\n",
    "time = (system_time_ns - system_time_ns[0]) * 1.0e-9\n",
    "latency_ms = latency_ns * 1.0e-6\n",
    "max_ms = comm.get_stats()['max']\n",
    "plt.step(time, latency_ms, label='max: {:.1f} ms'.format(max_ms), where='post')\n",
    "\n",
    "system_time_ns, latency_ns = dds.timeseries.get_xy()\n",
    "time = (system_time_ns - system_time_ns[0]) * 1.0e-9\n",
    "latency_ms = latency_ns * 1.0e-6\n",
    "max_ms = dds.get_stats()['max']\n",
    "plt.step(time, latency_ms, label='max: {:.1f} ms'.format(max_ms), where='post')\n",
    "\n",
    "plt.legend()\n",
    "plt.xlabel('Time ]s')\n",
    "plt.ylabel('Latency [ms]')"
   ]
  },
  {
   "cell_type": "code",
   "execution_count": null,
   "metadata": {},
   "outputs": [],
   "source": []
  }
 ],
 "metadata": {
  "kernelspec": {
   "display_name": "Python 3 (ipykernel)",
   "language": "python",
   "name": "python3"
  },
  "language_info": {
   "codemirror_mode": {
    "name": "ipython",
    "version": 3
   },
   "file_extension": ".py",
   "mimetype": "text/x-python",
   "name": "python",
   "nbconvert_exporter": "python",
   "pygments_lexer": "ipython3",
   "version": "3.8.10"
  }
 },
 "nbformat": 4,
 "nbformat_minor": 4
}
